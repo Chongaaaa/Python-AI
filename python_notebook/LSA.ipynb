{
 "cells": [
  {
   "cell_type": "code",
   "execution_count": 1,
   "id": "b48cb8ab-e8e1-437e-86bd-53e526c4ef50",
   "metadata": {},
   "outputs": [],
   "source": [
    "import pandas as pd\n",
    "from timeit import default_timer as timer"
   ]
  },
  {
   "cell_type": "code",
   "execution_count": 2,
   "id": "402ebb29-0c37-42f5-bd68-374bd320f6f3",
   "metadata": {},
   "outputs": [],
   "source": [
    "# Load Data\n",
    "df = pd.read_csv(\"../dataset/movies.csv\")"
   ]
  },
  {
   "cell_type": "code",
   "execution_count": 3,
   "id": "505a42d1-e27c-4048-87c0-3e926bb824a6",
   "metadata": {},
   "outputs": [
    {
     "data": {
      "text/html": [
       "<div>\n",
       "<style scoped>\n",
       "    .dataframe tbody tr th:only-of-type {\n",
       "        vertical-align: middle;\n",
       "    }\n",
       "\n",
       "    .dataframe tbody tr th {\n",
       "        vertical-align: top;\n",
       "    }\n",
       "\n",
       "    .dataframe thead th {\n",
       "        text-align: right;\n",
       "    }\n",
       "</style>\n",
       "<table border=\"1\" class=\"dataframe\">\n",
       "  <thead>\n",
       "    <tr style=\"text-align: right;\">\n",
       "      <th></th>\n",
       "      <th>Unnamed: 0</th>\n",
       "      <th>Series_Title</th>\n",
       "      <th>Genre</th>\n",
       "      <th>Overview</th>\n",
       "      <th>Director</th>\n",
       "      <th>Stars</th>\n",
       "    </tr>\n",
       "  </thead>\n",
       "  <tbody>\n",
       "    <tr>\n",
       "      <th>0</th>\n",
       "      <td>0</td>\n",
       "      <td>The Shawshank Redemption</td>\n",
       "      <td>drama</td>\n",
       "      <td>imprison men bond number year find solac event...</td>\n",
       "      <td>frank darabont</td>\n",
       "      <td>tim robbin morgan freeman bob gunton william s...</td>\n",
       "    </tr>\n",
       "    <tr>\n",
       "      <th>1</th>\n",
       "      <td>1</td>\n",
       "      <td>The Godfather</td>\n",
       "      <td>crime drama</td>\n",
       "      <td>organ crime dynasti age patriarch transfer con...</td>\n",
       "      <td>franci ford coppola</td>\n",
       "      <td>marlon brando al pacino jame caan dian keaton</td>\n",
       "    </tr>\n",
       "    <tr>\n",
       "      <th>2</th>\n",
       "      <td>2</td>\n",
       "      <td>The Dark Knight</td>\n",
       "      <td>action crime drama</td>\n",
       "      <td>menac known joker wreak havoc chao peopl gotha...</td>\n",
       "      <td>christoph nolan</td>\n",
       "      <td>christian bale heath ledger aaron eckhart mich...</td>\n",
       "    </tr>\n",
       "    <tr>\n",
       "      <th>3</th>\n",
       "      <td>3</td>\n",
       "      <td>The Godfather: Part II</td>\n",
       "      <td>crime drama</td>\n",
       "      <td>earli life career vito corleon s new york citi...</td>\n",
       "      <td>franci ford coppola</td>\n",
       "      <td>al pacino robert niro robert duval dian keaton</td>\n",
       "    </tr>\n",
       "    <tr>\n",
       "      <th>4</th>\n",
       "      <td>4</td>\n",
       "      <td>12 Angry Men</td>\n",
       "      <td>crime drama</td>\n",
       "      <td>juri holdout attempt prevent miscarriag justic...</td>\n",
       "      <td>sidney lumet</td>\n",
       "      <td>henri fonda lee j cobb martin balsam john fiedler</td>\n",
       "    </tr>\n",
       "  </tbody>\n",
       "</table>\n",
       "</div>"
      ],
      "text/plain": [
       "   Unnamed: 0              Series_Title               Genre  \\\n",
       "0           0  The Shawshank Redemption               drama   \n",
       "1           1             The Godfather         crime drama   \n",
       "2           2           The Dark Knight  action crime drama   \n",
       "3           3    The Godfather: Part II         crime drama   \n",
       "4           4              12 Angry Men         crime drama   \n",
       "\n",
       "                                            Overview             Director  \\\n",
       "0  imprison men bond number year find solac event...       frank darabont   \n",
       "1  organ crime dynasti age patriarch transfer con...  franci ford coppola   \n",
       "2  menac known joker wreak havoc chao peopl gotha...      christoph nolan   \n",
       "3  earli life career vito corleon s new york citi...  franci ford coppola   \n",
       "4  juri holdout attempt prevent miscarriag justic...         sidney lumet   \n",
       "\n",
       "                                               Stars  \n",
       "0  tim robbin morgan freeman bob gunton william s...  \n",
       "1      marlon brando al pacino jame caan dian keaton  \n",
       "2  christian bale heath ledger aaron eckhart mich...  \n",
       "3     al pacino robert niro robert duval dian keaton  \n",
       "4  henri fonda lee j cobb martin balsam john fiedler  "
      ]
     },
     "execution_count": 3,
     "metadata": {},
     "output_type": "execute_result"
    }
   ],
   "source": [
    "# print original table\n",
    "df.head()"
   ]
  },
  {
   "cell_type": "code",
   "execution_count": 4,
   "id": "b54e646d-a17e-4c3e-a18f-f471479aeb1d",
   "metadata": {},
   "outputs": [],
   "source": [
    "df = df.drop(columns = [\"Unnamed: 0\"])"
   ]
  },
  {
   "cell_type": "code",
   "execution_count": 5,
   "id": "0d334446-404c-449e-932b-99780d6d46d7",
   "metadata": {},
   "outputs": [
    {
     "data": {
      "text/html": [
       "<div>\n",
       "<style scoped>\n",
       "    .dataframe tbody tr th:only-of-type {\n",
       "        vertical-align: middle;\n",
       "    }\n",
       "\n",
       "    .dataframe tbody tr th {\n",
       "        vertical-align: top;\n",
       "    }\n",
       "\n",
       "    .dataframe thead th {\n",
       "        text-align: right;\n",
       "    }\n",
       "</style>\n",
       "<table border=\"1\" class=\"dataframe\">\n",
       "  <thead>\n",
       "    <tr style=\"text-align: right;\">\n",
       "      <th></th>\n",
       "      <th>Series_Title</th>\n",
       "      <th>Genre</th>\n",
       "      <th>Overview</th>\n",
       "      <th>Director</th>\n",
       "      <th>Stars</th>\n",
       "    </tr>\n",
       "  </thead>\n",
       "  <tbody>\n",
       "    <tr>\n",
       "      <th>0</th>\n",
       "      <td>The Shawshank Redemption</td>\n",
       "      <td>drama</td>\n",
       "      <td>imprison men bond number year find solac event...</td>\n",
       "      <td>frank darabont</td>\n",
       "      <td>tim robbin morgan freeman bob gunton william s...</td>\n",
       "    </tr>\n",
       "    <tr>\n",
       "      <th>1</th>\n",
       "      <td>The Godfather</td>\n",
       "      <td>crime drama</td>\n",
       "      <td>organ crime dynasti age patriarch transfer con...</td>\n",
       "      <td>franci ford coppola</td>\n",
       "      <td>marlon brando al pacino jame caan dian keaton</td>\n",
       "    </tr>\n",
       "    <tr>\n",
       "      <th>2</th>\n",
       "      <td>The Dark Knight</td>\n",
       "      <td>action crime drama</td>\n",
       "      <td>menac known joker wreak havoc chao peopl gotha...</td>\n",
       "      <td>christoph nolan</td>\n",
       "      <td>christian bale heath ledger aaron eckhart mich...</td>\n",
       "    </tr>\n",
       "    <tr>\n",
       "      <th>3</th>\n",
       "      <td>The Godfather: Part II</td>\n",
       "      <td>crime drama</td>\n",
       "      <td>earli life career vito corleon s new york citi...</td>\n",
       "      <td>franci ford coppola</td>\n",
       "      <td>al pacino robert niro robert duval dian keaton</td>\n",
       "    </tr>\n",
       "    <tr>\n",
       "      <th>4</th>\n",
       "      <td>12 Angry Men</td>\n",
       "      <td>crime drama</td>\n",
       "      <td>juri holdout attempt prevent miscarriag justic...</td>\n",
       "      <td>sidney lumet</td>\n",
       "      <td>henri fonda lee j cobb martin balsam john fiedler</td>\n",
       "    </tr>\n",
       "  </tbody>\n",
       "</table>\n",
       "</div>"
      ],
      "text/plain": [
       "               Series_Title               Genre  \\\n",
       "0  The Shawshank Redemption               drama   \n",
       "1             The Godfather         crime drama   \n",
       "2           The Dark Knight  action crime drama   \n",
       "3    The Godfather: Part II         crime drama   \n",
       "4              12 Angry Men         crime drama   \n",
       "\n",
       "                                            Overview             Director  \\\n",
       "0  imprison men bond number year find solac event...       frank darabont   \n",
       "1  organ crime dynasti age patriarch transfer con...  franci ford coppola   \n",
       "2  menac known joker wreak havoc chao peopl gotha...      christoph nolan   \n",
       "3  earli life career vito corleon s new york citi...  franci ford coppola   \n",
       "4  juri holdout attempt prevent miscarriag justic...         sidney lumet   \n",
       "\n",
       "                                               Stars  \n",
       "0  tim robbin morgan freeman bob gunton william s...  \n",
       "1      marlon brando al pacino jame caan dian keaton  \n",
       "2  christian bale heath ledger aaron eckhart mich...  \n",
       "3     al pacino robert niro robert duval dian keaton  \n",
       "4  henri fonda lee j cobb martin balsam john fiedler  "
      ]
     },
     "execution_count": 5,
     "metadata": {},
     "output_type": "execute_result"
    }
   ],
   "source": [
    "df.head()"
   ]
  },
  {
   "cell_type": "code",
   "execution_count": 6,
   "id": "c05b6394-e29d-4df7-9d73-f65674df251d",
   "metadata": {},
   "outputs": [
    {
     "name": "stdout",
     "output_type": "stream",
     "text": [
      "<class 'pandas.core.frame.DataFrame'>\n",
      "RangeIndex: 1000 entries, 0 to 999\n",
      "Data columns (total 5 columns):\n",
      " #   Column        Non-Null Count  Dtype \n",
      "---  ------        --------------  ----- \n",
      " 0   Series_Title  1000 non-null   object\n",
      " 1   Genre         1000 non-null   object\n",
      " 2   Overview      1000 non-null   object\n",
      " 3   Director      1000 non-null   object\n",
      " 4   Stars         1000 non-null   object\n",
      "dtypes: object(5)\n",
      "memory usage: 39.2+ KB\n"
     ]
    }
   ],
   "source": [
    "df.info()"
   ]
  },
  {
   "cell_type": "code",
   "execution_count": 7,
   "id": "5d324d32-89fa-4ca5-8ffb-bf9616c5762c",
   "metadata": {},
   "outputs": [
    {
     "data": {
      "text/plain": [
       "(1000, 5)"
      ]
     },
     "execution_count": 7,
     "metadata": {},
     "output_type": "execute_result"
    }
   ],
   "source": [
    "df.shape"
   ]
  },
  {
   "cell_type": "code",
   "execution_count": 8,
   "id": "b9b7c71f-41a8-4619-b144-a377a1e78b65",
   "metadata": {},
   "outputs": [
    {
     "name": "stdout",
     "output_type": "stream",
     "text": [
      "<class 'pandas.core.frame.DataFrame'>\n",
      "RangeIndex: 1000 entries, 0 to 999\n",
      "Data columns (total 5 columns):\n",
      " #   Column        Non-Null Count  Dtype \n",
      "---  ------        --------------  ----- \n",
      " 0   Series_Title  1000 non-null   object\n",
      " 1   Genre         1000 non-null   object\n",
      " 2   Overview      1000 non-null   object\n",
      " 3   Director      1000 non-null   object\n",
      " 4   Stars         1000 non-null   object\n",
      "dtypes: object(5)\n",
      "memory usage: 39.2+ KB\n"
     ]
    }
   ],
   "source": [
    "df.info()"
   ]
  },
  {
   "cell_type": "code",
   "execution_count": 9,
   "id": "b084337d-8a36-45ae-a822-99951b95beaa",
   "metadata": {},
   "outputs": [
    {
     "data": {
      "text/html": [
       "<div>\n",
       "<style scoped>\n",
       "    .dataframe tbody tr th:only-of-type {\n",
       "        vertical-align: middle;\n",
       "    }\n",
       "\n",
       "    .dataframe tbody tr th {\n",
       "        vertical-align: top;\n",
       "    }\n",
       "\n",
       "    .dataframe thead th {\n",
       "        text-align: right;\n",
       "    }\n",
       "</style>\n",
       "<table border=\"1\" class=\"dataframe\">\n",
       "  <thead>\n",
       "    <tr style=\"text-align: right;\">\n",
       "      <th></th>\n",
       "      <th>Series_Title</th>\n",
       "      <th>Genre</th>\n",
       "      <th>Overview</th>\n",
       "      <th>Director</th>\n",
       "      <th>Stars</th>\n",
       "      <th>Movies_Infor</th>\n",
       "    </tr>\n",
       "  </thead>\n",
       "  <tbody>\n",
       "    <tr>\n",
       "      <th>0</th>\n",
       "      <td>The Shawshank Redemption</td>\n",
       "      <td>drama</td>\n",
       "      <td>imprison men bond number year find solac event...</td>\n",
       "      <td>frank darabont</td>\n",
       "      <td>tim robbin morgan freeman bob gunton william s...</td>\n",
       "      <td>drama imprison men bond number year find solac...</td>\n",
       "    </tr>\n",
       "    <tr>\n",
       "      <th>1</th>\n",
       "      <td>The Godfather</td>\n",
       "      <td>crime drama</td>\n",
       "      <td>organ crime dynasti age patriarch transfer con...</td>\n",
       "      <td>franci ford coppola</td>\n",
       "      <td>marlon brando al pacino jame caan dian keaton</td>\n",
       "      <td>crime drama organ crime dynasti age patriarch ...</td>\n",
       "    </tr>\n",
       "    <tr>\n",
       "      <th>2</th>\n",
       "      <td>The Dark Knight</td>\n",
       "      <td>action crime drama</td>\n",
       "      <td>menac known joker wreak havoc chao peopl gotha...</td>\n",
       "      <td>christoph nolan</td>\n",
       "      <td>christian bale heath ledger aaron eckhart mich...</td>\n",
       "      <td>action crime drama menac known joker wreak hav...</td>\n",
       "    </tr>\n",
       "    <tr>\n",
       "      <th>3</th>\n",
       "      <td>The Godfather: Part II</td>\n",
       "      <td>crime drama</td>\n",
       "      <td>earli life career vito corleon s new york citi...</td>\n",
       "      <td>franci ford coppola</td>\n",
       "      <td>al pacino robert niro robert duval dian keaton</td>\n",
       "      <td>crime drama earli life career vito corleon s n...</td>\n",
       "    </tr>\n",
       "    <tr>\n",
       "      <th>4</th>\n",
       "      <td>12 Angry Men</td>\n",
       "      <td>crime drama</td>\n",
       "      <td>juri holdout attempt prevent miscarriag justic...</td>\n",
       "      <td>sidney lumet</td>\n",
       "      <td>henri fonda lee j cobb martin balsam john fiedler</td>\n",
       "      <td>crime drama juri holdout attempt prevent misca...</td>\n",
       "    </tr>\n",
       "  </tbody>\n",
       "</table>\n",
       "</div>"
      ],
      "text/plain": [
       "               Series_Title               Genre  \\\n",
       "0  The Shawshank Redemption               drama   \n",
       "1             The Godfather         crime drama   \n",
       "2           The Dark Knight  action crime drama   \n",
       "3    The Godfather: Part II         crime drama   \n",
       "4              12 Angry Men         crime drama   \n",
       "\n",
       "                                            Overview             Director  \\\n",
       "0  imprison men bond number year find solac event...       frank darabont   \n",
       "1  organ crime dynasti age patriarch transfer con...  franci ford coppola   \n",
       "2  menac known joker wreak havoc chao peopl gotha...      christoph nolan   \n",
       "3  earli life career vito corleon s new york citi...  franci ford coppola   \n",
       "4  juri holdout attempt prevent miscarriag justic...         sidney lumet   \n",
       "\n",
       "                                               Stars  \\\n",
       "0  tim robbin morgan freeman bob gunton william s...   \n",
       "1      marlon brando al pacino jame caan dian keaton   \n",
       "2  christian bale heath ledger aaron eckhart mich...   \n",
       "3     al pacino robert niro robert duval dian keaton   \n",
       "4  henri fonda lee j cobb martin balsam john fiedler   \n",
       "\n",
       "                                        Movies_Infor  \n",
       "0  drama imprison men bond number year find solac...  \n",
       "1  crime drama organ crime dynasti age patriarch ...  \n",
       "2  action crime drama menac known joker wreak hav...  \n",
       "3  crime drama earli life career vito corleon s n...  \n",
       "4  crime drama juri holdout attempt prevent misca...  "
      ]
     },
     "execution_count": 9,
     "metadata": {},
     "output_type": "execute_result"
    }
   ],
   "source": [
    "df[\"Movies_Infor\"] = df[\"Genre\"] + \" \" + df[\"Overview\"] + \" \" + df[\"Director\"] + \" \" + df[\"Stars\"]\n",
    "df.head()"
   ]
  },
  {
   "cell_type": "code",
   "execution_count": 10,
   "id": "86813b25-fd03-489f-92c1-10f99d9609f7",
   "metadata": {},
   "outputs": [
    {
     "data": {
      "text/plain": [
       "0    drama imprison men bond number year find solac...\n",
       "1    crime drama organ crime dynasti age patriarch ...\n",
       "2    action crime drama menac known joker wreak hav...\n",
       "3    crime drama earli life career vito corleon s n...\n",
       "4    crime drama juri holdout attempt prevent misca...\n",
       "Name: Movies_Infor, dtype: object"
      ]
     },
     "execution_count": 10,
     "metadata": {},
     "output_type": "execute_result"
    }
   ],
   "source": [
    "x = df[\"Movies_Infor\"]\n",
    "x.head()"
   ]
  },
  {
   "cell_type": "code",
   "execution_count": 11,
   "id": "d4834867-cbbf-46c7-8610-1be5206a79a4",
   "metadata": {},
   "outputs": [
    {
     "data": {
      "text/plain": [
       "0    The Shawshank Redemption\n",
       "1               The Godfather\n",
       "2             The Dark Knight\n",
       "3      The Godfather: Part II\n",
       "4                12 Angry Men\n",
       "Name: Series_Title, dtype: object"
      ]
     },
     "execution_count": 11,
     "metadata": {},
     "output_type": "execute_result"
    }
   ],
   "source": [
    "y = df[\"Series_Title\"]\n",
    "y.head()"
   ]
  },
  {
   "cell_type": "code",
   "execution_count": 12,
   "id": "923dd36d-81a1-45d4-879e-5baea10432ee",
   "metadata": {},
   "outputs": [],
   "source": [
    "# convert movie information into numeric\n",
    "from sklearn.feature_extraction.text import TfidfVectorizer\n",
    "\n",
    "# Fit TF-IDF on the entire dataset (x)\n",
    "tfidf_vectorizer = TfidfVectorizer(max_features = 1000)\n",
    "x_tfidf = tfidf_vectorizer.fit_transform(x)\n",
    "y_tfidf = tfidf_vectorizer.fit_transform(y)"
   ]
  },
  {
   "cell_type": "code",
   "execution_count": 13,
   "id": "26253d11-098f-4593-bca9-80931174d15d",
   "metadata": {},
   "outputs": [
    {
     "name": "stdout",
     "output_type": "stream",
     "text": [
      "  (0, 974)\t0.2264870704969537\n",
      "  (0, 91)\t0.2871442818197148\n",
      "  (0, 334)\t0.2994646114637485\n",
      "  (0, 611)\t0.3095310537502744\n",
      "  (0, 904)\t0.2740926491252047\n",
      "  (0, 329)\t0.26119417207154705\n",
      "  (0, 5)\t0.2994646114637485\n",
      "  (0, 741)\t0.31534827892539036\n",
      "  (0, 320)\t0.21745266897120052\n",
      "  (0, 993)\t0.22178528877690445\n",
      "  (0, 94)\t0.2871442818197148\n",
      "  (0, 592)\t0.26119417207154705\n",
      "  (0, 432)\t0.3095310537502744\n",
      "  (0, 258)\t0.07302321747154297\n",
      "  (1, 494)\t0.3092875795722518\n",
      "  (1, 248)\t0.30440421461755696\n",
      "  (1, 447)\t0.2030706473274813\n",
      "  (1, 658)\t0.2957527709368008\n",
      "  (1, 21)\t0.2848560961631422\n",
      "  (1, 193)\t0.3346544728417758\n",
      "  (1, 323)\t0.26550251271258196\n",
      "  (1, 328)\t0.31463670066405536\n",
      "  (1, 838)\t0.23971204541422605\n",
      "  (1, 282)\t0.3092875795722518\n",
      "  (1, 14)\t0.2848560961631422\n",
      "  :\t:\n",
      "  (998, 974)\t0.24347387901315098\n",
      "  (998, 258)\t0.07850004848756521\n",
      "  (999, 556)\t0.22410567977278983\n",
      "  (999, 134)\t0.22923924221749128\n",
      "  (999, 547)\t0.21957755678549543\n",
      "  (999, 849)\t0.20851773142064617\n",
      "  (999, 15)\t0.3606011440087895\n",
      "  (999, 404)\t0.1999390643949451\n",
      "  (999, 29)\t0.1974579060557969\n",
      "  (999, 783)\t0.18887923903009585\n",
      "  (999, 920)\t0.3225643348553682\n",
      "  (999, 868)\t0.19292978306850248\n",
      "  (999, 623)\t0.118735151261032\n",
      "  (999, 4)\t0.1999390643949451\n",
      "  (999, 502)\t0.1974579060557969\n",
      "  (999, 903)\t0.11462264973783384\n",
      "  (999, 854)\t0.21552701274708877\n",
      "  (999, 396)\t0.1499886355012244\n",
      "  (999, 564)\t0.24461283044786608\n",
      "  (999, 800)\t0.1852150762439184\n",
      "  (999, 810)\t0.1835061455239634\n",
      "  (999, 861)\t0.20544052066137172\n",
      "  (999, 763)\t0.21552701274708877\n",
      "  (999, 768)\t0.13606727798480875\n",
      "  (999, 202)\t0.0972209399887405\n"
     ]
    }
   ],
   "source": [
    "print(x_tfidf)"
   ]
  },
  {
   "cell_type": "code",
   "execution_count": 14,
   "id": "8741117c-664d-4d06-96ee-70118ff86f28",
   "metadata": {},
   "outputs": [
    {
     "name": "stdout",
     "output_type": "stream",
     "text": [
      "  (0, 536)\t0.6883956892151754\n",
      "  (0, 643)\t0.6883956892151754\n",
      "  (0, 791)\t0.22852297508112257\n",
      "  (1, 192)\t0.9387014236187246\n",
      "  (1, 791)\t0.34473125372698654\n",
      "  (2, 234)\t0.7273239070142198\n",
      "  (2, 138)\t0.6368324097998859\n",
      "  (2, 791)\t0.25582106268648125\n",
      "  (3, 215)\t0.5625755822897067\n",
      "  (3, 435)\t0.546292918924003\n",
      "  (3, 192)\t0.5825039516617555\n",
      "  (3, 791)\t0.21392032919601017\n",
      "  (4, 283)\t0.5344543299107184\n",
      "  (4, 9)\t0.6103982859061458\n",
      "  (4, 1)\t0.5846131214765232\n",
      "  (5, 233)\t0.3348288274163998\n",
      "  (5, 546)\t0.3911664945297966\n",
      "  (5, 555)\t0.3746423780411066\n",
      "  (5, 392)\t0.40091304831217456\n",
      "  (5, 249)\t0.3618252775377932\n",
      "  (5, 791)\t0.5503387272323047\n",
      "  (6, 506)\t1.0\n",
      "  (7, 615)\t1.0\n",
      "  (9, 107)\t1.0\n",
      "  (10, 554)\t0.4352692723255221\n",
      "  :\t:\n",
      "  (986, 920)\t0.7533181380242879\n",
      "  (986, 158)\t0.6576562802282205\n",
      "  (987, 291)\t1.0\n",
      "  (988, 106)\t0.5656244882230873\n",
      "  (988, 232)\t0.5338404712671817\n",
      "  (988, 796)\t0.5338404712671817\n",
      "  (988, 392)\t0.2735709904108756\n",
      "  (988, 791)\t0.18776728682720498\n",
      "  (989, 248)\t0.9387014236187246\n",
      "  (989, 791)\t0.34473125372698654\n",
      "  (990, 788)\t0.8340265551932081\n",
      "  (990, 237)\t0.5517243018324918\n",
      "  (992, 30)\t0.9433486082241092\n",
      "  (992, 791)\t0.3318032600226167\n",
      "  (994, 361)\t0.5638230813578109\n",
      "  (994, 201)\t0.6308656922531413\n",
      "  (994, 141)\t0.5330215861164989\n",
      "  (995, 801)\t0.6190504428683128\n",
      "  (995, 33)\t0.5842642725691815\n",
      "  (995, 13)\t0.5247969216599417\n",
      "  (996, 188)\t1.0\n",
      "  (997, 184)\t0.7731161364522519\n",
      "  (997, 807)\t0.6342644870691903\n",
      "  (999, 728)\t0.9490722958309379\n",
      "  (999, 791)\t0.3150583712364945\n"
     ]
    }
   ],
   "source": [
    "print(y_tfidf)"
   ]
  },
  {
   "cell_type": "code",
   "execution_count": 15,
   "id": "9f2bf64e-927f-4292-8f46-8770d5351d25",
   "metadata": {},
   "outputs": [],
   "source": [
    "# Apply LSA to reduce dimension\n",
    "from sklearn.decomposition import TruncatedSVD\n",
    "\n",
    "lsa = TruncatedSVD(n_components = 100)\n",
    "x_lsa = lsa.fit_transform(x_tfidf)\n",
    "y_lsa = lsa.fit_transform(y_tfidf)"
   ]
  },
  {
   "cell_type": "code",
   "execution_count": 16,
   "id": "5a0cf1b6-eb1f-4c62-971d-581f42be4894",
   "metadata": {},
   "outputs": [
    {
     "name": "stdout",
     "output_type": "stream",
     "text": [
      "[[ 0.13237434  0.00158067 -0.01698187 ... -0.01034633  0.10837669\n",
      "  -0.12055877]\n",
      " [ 0.17150729 -0.083934   -0.19043817 ...  0.06143899  0.01677296\n",
      "   0.03918199]\n",
      " [ 0.17187668 -0.12641812 -0.0331429  ...  0.02382018  0.02797234\n",
      "   0.01139833]\n",
      " ...\n",
      " [ 0.17634764  0.07713964  0.048409   ... -0.03424544 -0.03013454\n",
      "   0.08205613]\n",
      " [ 0.20352622 -0.19645799  0.24220053 ... -0.02489939 -0.06976351\n",
      "   0.01398377]\n",
      " [ 0.20999799 -0.12689621 -0.15577279 ... -0.0038737   0.02661753\n",
      "  -0.01890116]]\n"
     ]
    }
   ],
   "source": [
    "print(x_lsa)"
   ]
  },
  {
   "cell_type": "code",
   "execution_count": 17,
   "id": "9ff864a4-c641-4334-9ee5-ba39b4fd621d",
   "metadata": {},
   "outputs": [
    {
     "name": "stdout",
     "output_type": "stream",
     "text": [
      "[[ 0.22822713 -0.04157199 -0.00218773 ...  0.00172499  0.01036242\n",
      "   0.00193136]\n",
      " [ 0.35039741 -0.06793156 -0.00319594 ...  0.05074255  0.00640944\n",
      "   0.05205183]\n",
      " [ 0.26233074 -0.05244355  0.00293176 ...  0.002375   -0.0112409\n",
      "   0.0131256 ]\n",
      " ...\n",
      " [ 0.00835593  0.00385344  0.08085852 ...  0.02204189 -0.01495061\n",
      "   0.01458407]\n",
      " [ 0.          0.          0.         ...  0.          0.\n",
      "   0.        ]\n",
      " [ 0.31432758 -0.05705922 -0.00299751 ...  0.00955906  0.00635899\n",
      "   0.00142459]]\n"
     ]
    }
   ],
   "source": [
    "print(y_lsa)"
   ]
  },
  {
   "cell_type": "code",
   "execution_count": 18,
   "id": "fd980094-61df-4700-bf16-0e747b4dc648",
   "metadata": {},
   "outputs": [],
   "source": [
    "# Find the index for the movie you want to find similar movies for\n",
    "user_movie = input(\"Enter a movie name: \")"
   ]
  },
  {
   "cell_type": "code",
   "execution_count": 19,
   "id": "2ac443d1-39fa-4987-96b3-8d27663074bd",
   "metadata": {},
   "outputs": [],
   "source": [
    "start = timer()\n",
    "import numpy as np\n",
    "\n",
    "# Use euclidean distance to find the nearest \n",
    "def euclidean_distance(vec1, vec2):\n",
    "    return np.sqrt(np.sum((vec1 - vec2) ** 2))"
   ]
  },
  {
   "cell_type": "code",
   "execution_count": 20,
   "id": "b8fb4bbe-b74c-4481-8a6f-a089932b10b9",
   "metadata": {},
   "outputs": [],
   "source": [
    "def find_similar_movies(target_vec, lsa):\n",
    "    distances = []\n",
    "    for idx, movie_vec in enumerate(lsa):\n",
    "        diff = euclidean_distance(target_vec, movie_vec)\n",
    "        distances.append((idx, diff))\n",
    "    \n",
    "    # Sort distances in ascending order\n",
    "    distances.sort(key=lambda x: x[1])\n",
    "    \n",
    "    # Return similar movies\n",
    "    return distances[:10]"
   ]
  },
  {
   "cell_type": "code",
   "execution_count": 21,
   "id": "8249fee4-01d9-4a5d-824f-d6dddcbaf7e3",
   "metadata": {},
   "outputs": [
    {
     "name": "stdout",
     "output_type": "stream",
     "text": [
      "892: Moana\n",
      "399: Aladdin\n",
      "592: Big Hero 6\n",
      "740: Wreck-It Ralph\n",
      "651: Shrek\n",
      "744: The Lego Movie\n",
      "986: Watership Down\n",
      "245: Monsters, Inc.\n",
      "135: Klaus\n",
      "976: The Little Mermaid\n"
     ]
    }
   ],
   "source": [
    "movie_index = df[df[\"Series_Title\"] == user_movie].index[0]\n",
    "\n",
    "# Perform similarity search on the full dataset\n",
    "target_vec = x_lsa[movie_index]\n",
    "similar_movies = find_similar_movies(target_vec, x_lsa)\n",
    "\n",
    "# Display the similar movies\n",
    "for i, score in similar_movies:\n",
    "    print(\"{}: {}\".format(i, df.loc[i, \"Series_Title\"]))"
   ]
  },
  {
   "cell_type": "code",
   "execution_count": 22,
   "id": "a30241fd",
   "metadata": {},
   "outputs": [],
   "source": [
    "end = timer()"
   ]
  },
  {
   "cell_type": "code",
   "execution_count": 23,
   "id": "dc73ea1c-f3ab-4446-997b-5a8d7a2e1874",
   "metadata": {},
   "outputs": [
    {
     "data": {
      "text/html": [
       "<div>\n",
       "<style scoped>\n",
       "    .dataframe tbody tr th:only-of-type {\n",
       "        vertical-align: middle;\n",
       "    }\n",
       "\n",
       "    .dataframe tbody tr th {\n",
       "        vertical-align: top;\n",
       "    }\n",
       "\n",
       "    .dataframe thead th {\n",
       "        text-align: right;\n",
       "    }\n",
       "</style>\n",
       "<table border=\"1\" class=\"dataframe\">\n",
       "  <thead>\n",
       "    <tr style=\"text-align: right;\">\n",
       "      <th></th>\n",
       "      <th>Series_Title</th>\n",
       "      <th>Genre</th>\n",
       "      <th>Overview</th>\n",
       "      <th>Director</th>\n",
       "      <th>Stars</th>\n",
       "      <th>Movies_Infor</th>\n",
       "    </tr>\n",
       "  </thead>\n",
       "  <tbody>\n",
       "    <tr>\n",
       "      <th>892</th>\n",
       "      <td>Moana</td>\n",
       "      <td>anim adventur comedi</td>\n",
       "      <td>ancient polynesia terribl curs incur demigod m...</td>\n",
       "      <td>ron clement</td>\n",
       "      <td>john musker don hall chri william aulii cravalho</td>\n",
       "      <td>anim adventur comedi ancient polynesia terribl...</td>\n",
       "    </tr>\n",
       "  </tbody>\n",
       "</table>\n",
       "</div>"
      ],
      "text/plain": [
       "    Series_Title                 Genre  \\\n",
       "892        Moana  anim adventur comedi   \n",
       "\n",
       "                                              Overview     Director  \\\n",
       "892  ancient polynesia terribl curs incur demigod m...  ron clement   \n",
       "\n",
       "                                                Stars  \\\n",
       "892  john musker don hall chri william aulii cravalho   \n",
       "\n",
       "                                          Movies_Infor  \n",
       "892  anim adventur comedi ancient polynesia terribl...  "
      ]
     },
     "execution_count": 23,
     "metadata": {},
     "output_type": "execute_result"
    }
   ],
   "source": [
    "same_series = df[df[\"Series_Title\"].str.contains(user_movie, case=False, na=False)]\n",
    "\n",
    "same_series.head()"
   ]
  },
  {
   "cell_type": "code",
   "execution_count": 24,
   "id": "901760bc-8100-44ff-a36e-3504ad9e8363",
   "metadata": {},
   "outputs": [
    {
     "name": "stdout",
     "output_type": "stream",
     "text": [
      "Precision@10: 1.00\n",
      "Recall@10: 1.00\n",
      "F1@10: 1.00\n",
      "Executed Time: 0.05 seconds\n",
      "Predicted movies:  ['Moana', 'Aladdin', 'Big Hero 6', 'Wreck-It Ralph', 'Shrek', 'The Lego Movie', 'Watership Down', 'Monsters, Inc.', 'Klaus', 'The Little Mermaid']\n"
     ]
    }
   ],
   "source": [
    "# Precision: measures how many of the top recommended items are relevant\n",
    "def precision_at_k(y_true, y_pred, k):\n",
    "    relevant = len(set(y_true) & set(y_pred[:k]))  # Intersection of ground truth and predicted\n",
    "    if relevant == same_series.shape[0]: \n",
    "        return relevant / same_series.shape[0]\n",
    "    return relevant / k\n",
    "\n",
    "# Recall: measures how many relevant items are captured in the top recommendation\n",
    "def recall_at_k(y_true, y_pred, k):\n",
    "    relevant = len(set(y_true) & set(y_pred[:k]))\n",
    "    if len(y_true) == 0: \n",
    "        return 0\n",
    "    return relevant / len(y_true) \n",
    "\n",
    "# harmonic mean of precision and recall\n",
    "def f1_at_k(y_true, y_pred, k):\n",
    "    prec = precision_at_k(y_true, y_pred, k)\n",
    "    rec = recall_at_k(y_true, y_pred, k)\n",
    "    if prec + rec == 0:\n",
    "        return 0\n",
    "    return 2 * (prec * rec) / (prec + rec)\n",
    "\n",
    "# actual movie\n",
    "y_true = same_series[\"Series_Title\"]\n",
    "\n",
    "# Predict movie    \n",
    "y_pred = [df.loc[i, \"Series_Title\"] for i, score in similar_movies]\n",
    "\n",
    "k = 10\n",
    "precision = precision_at_k(y_true, y_pred, k)\n",
    "recall = recall_at_k(y_true, y_pred, k)\n",
    "f1 = f1_at_k(y_true, y_pred, k)\n",
    "\n",
    "print(f\"Precision@{k}: {precision:.2f}\") # AKA: Accurancy\n",
    "print(f\"Recall@{k}: {recall:.2f}\")\n",
    "print(f\"F1@{k}: {f1:.2f}\")\n",
    "print(f\"Executed Time: {end-start:.2f} seconds\")\n",
    "print(\"Predicted movies: \", y_pred)"
   ]
  },
  {
   "cell_type": "code",
   "execution_count": 25,
   "id": "b410a519-7485-43b9-8b07-37f99deb7d1f",
   "metadata": {},
   "outputs": [
    {
     "data": {
      "text/plain": [
       "array([[ 0.13237434,  0.00158067, -0.01698187, ..., -0.01034633,\n",
       "         0.10837669, -0.12055877],\n",
       "       [ 0.17150729, -0.083934  , -0.19043817, ...,  0.06143899,\n",
       "         0.01677296,  0.03918199],\n",
       "       [ 0.17187668, -0.12641812, -0.0331429 , ...,  0.02382018,\n",
       "         0.02797234,  0.01139833],\n",
       "       ...,\n",
       "       [ 0.17634764,  0.07713964,  0.048409  , ..., -0.03424544,\n",
       "        -0.03013454,  0.08205613],\n",
       "       [ 0.20352622, -0.19645799,  0.24220053, ..., -0.02489939,\n",
       "        -0.06976351,  0.01398377],\n",
       "       [ 0.20999799, -0.12689621, -0.15577279, ..., -0.0038737 ,\n",
       "         0.02661753, -0.01890116]])"
      ]
     },
     "execution_count": 25,
     "metadata": {},
     "output_type": "execute_result"
    }
   ],
   "source": [
    "import pickle\n",
    "pickle.dump(x_lsa, open('../pickle/lsa.pkl', 'wb'))\n",
    "pickle.load(open('../pickle/lsa.pkl', 'rb'))"
   ]
  },
  {
   "cell_type": "code",
   "execution_count": 26,
   "id": "88814259-0776-444d-b96b-3bf08b683f94",
   "metadata": {},
   "outputs": [
    {
     "data": {
      "text/plain": [
       "[(892, 0.0),\n",
       " (399, 0.46691576180516436),\n",
       " (592, 0.5311216801192656),\n",
       " (740, 0.5608621122439756),\n",
       " (651, 0.5626006329850564),\n",
       " (744, 0.5887126342883277),\n",
       " (986, 0.592494879504584),\n",
       " (245, 0.5940123799806446),\n",
       " (135, 0.5968631506106519),\n",
       " (976, 0.5982911438260663)]"
      ]
     },
     "execution_count": 26,
     "metadata": {},
     "output_type": "execute_result"
    }
   ],
   "source": [
    "similar_movies"
   ]
  },
  {
   "cell_type": "code",
   "execution_count": null,
   "id": "495b79ff-f4b2-4485-89b8-a182f3e4a9bf",
   "metadata": {},
   "outputs": [],
   "source": []
  },
  {
   "cell_type": "code",
   "execution_count": null,
   "id": "e8e21e18-4a5c-49d0-811f-196a17ad2106",
   "metadata": {},
   "outputs": [],
   "source": []
  },
  {
   "cell_type": "code",
   "execution_count": null,
   "id": "e8f06722-139c-4956-aeda-85d9a370735a",
   "metadata": {},
   "outputs": [],
   "source": []
  }
 ],
 "metadata": {
  "kernelspec": {
   "display_name": "Python 3 (ipykernel)",
   "language": "python",
   "name": "python3"
  },
  "language_info": {
   "codemirror_mode": {
    "name": "ipython",
    "version": 3
   },
   "file_extension": ".py",
   "mimetype": "text/x-python",
   "name": "python",
   "nbconvert_exporter": "python",
   "pygments_lexer": "ipython3",
   "version": "3.12.4"
  }
 },
 "nbformat": 4,
 "nbformat_minor": 5
}
