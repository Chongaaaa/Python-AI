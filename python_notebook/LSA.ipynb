{
 "cells": [
  {
   "cell_type": "code",
   "execution_count": 26,
   "id": "b48cb8ab-e8e1-437e-86bd-53e526c4ef50",
   "metadata": {},
   "outputs": [],
   "source": [
    "import pandas as pd\n",
    "from timeit import default_timer as timer"
   ]
  },
  {
   "cell_type": "code",
   "execution_count": 27,
   "id": "402ebb29-0c37-42f5-bd68-374bd320f6f3",
   "metadata": {},
   "outputs": [],
   "source": [
    "# Load Data\n",
    "df = pd.read_csv(\"C:/Users/Asus/Desktop/Python/dataset/movies.csv\")"
   ]
  },
  {
   "cell_type": "code",
   "execution_count": 28,
   "id": "505a42d1-e27c-4048-87c0-3e926bb824a6",
   "metadata": {},
   "outputs": [
    {
     "data": {
      "text/html": [
       "<div>\n",
       "<style scoped>\n",
       "    .dataframe tbody tr th:only-of-type {\n",
       "        vertical-align: middle;\n",
       "    }\n",
       "\n",
       "    .dataframe tbody tr th {\n",
       "        vertical-align: top;\n",
       "    }\n",
       "\n",
       "    .dataframe thead th {\n",
       "        text-align: right;\n",
       "    }\n",
       "</style>\n",
       "<table border=\"1\" class=\"dataframe\">\n",
       "  <thead>\n",
       "    <tr style=\"text-align: right;\">\n",
       "      <th></th>\n",
       "      <th>Unnamed: 0</th>\n",
       "      <th>Series_Title</th>\n",
       "      <th>Released_Year</th>\n",
       "      <th>Genre</th>\n",
       "      <th>Overview</th>\n",
       "      <th>IMDB_Rating</th>\n",
       "      <th>Director</th>\n",
       "      <th>Stars</th>\n",
       "    </tr>\n",
       "  </thead>\n",
       "  <tbody>\n",
       "    <tr>\n",
       "      <th>0</th>\n",
       "      <td>0</td>\n",
       "      <td>The Shawshank Redemption</td>\n",
       "      <td>1994</td>\n",
       "      <td>drama</td>\n",
       "      <td>imprison men bond number year find solac event...</td>\n",
       "      <td>9.3</td>\n",
       "      <td>frank darabont</td>\n",
       "      <td>tim robbin morgan freeman bob gunton william s...</td>\n",
       "    </tr>\n",
       "    <tr>\n",
       "      <th>1</th>\n",
       "      <td>1</td>\n",
       "      <td>The Godfather</td>\n",
       "      <td>1972</td>\n",
       "      <td>crime drama</td>\n",
       "      <td>organ crime dynasti age patriarch transfer con...</td>\n",
       "      <td>9.2</td>\n",
       "      <td>franci ford coppola</td>\n",
       "      <td>marlon brando al pacino jame caan dian keaton</td>\n",
       "    </tr>\n",
       "    <tr>\n",
       "      <th>2</th>\n",
       "      <td>2</td>\n",
       "      <td>The Dark Knight</td>\n",
       "      <td>2008</td>\n",
       "      <td>action crime drama</td>\n",
       "      <td>menac known joker wreak havoc chao peopl gotha...</td>\n",
       "      <td>9.0</td>\n",
       "      <td>christoph nolan</td>\n",
       "      <td>christian bale heath ledger aaron eckhart mich...</td>\n",
       "    </tr>\n",
       "    <tr>\n",
       "      <th>3</th>\n",
       "      <td>3</td>\n",
       "      <td>The Godfather: Part II</td>\n",
       "      <td>1974</td>\n",
       "      <td>crime drama</td>\n",
       "      <td>earli life career vito corleon s new york citi...</td>\n",
       "      <td>9.0</td>\n",
       "      <td>franci ford coppola</td>\n",
       "      <td>al pacino robert niro robert duval dian keaton</td>\n",
       "    </tr>\n",
       "    <tr>\n",
       "      <th>4</th>\n",
       "      <td>4</td>\n",
       "      <td>12 Angry Men</td>\n",
       "      <td>1957</td>\n",
       "      <td>crime drama</td>\n",
       "      <td>juri holdout attempt prevent miscarriag justic...</td>\n",
       "      <td>9.0</td>\n",
       "      <td>sidney lumet</td>\n",
       "      <td>henri fonda lee j cobb martin balsam john fiedler</td>\n",
       "    </tr>\n",
       "  </tbody>\n",
       "</table>\n",
       "</div>"
      ],
      "text/plain": [
       "   Unnamed: 0              Series_Title  Released_Year               Genre  \\\n",
       "0           0  The Shawshank Redemption           1994               drama   \n",
       "1           1             The Godfather           1972         crime drama   \n",
       "2           2           The Dark Knight           2008  action crime drama   \n",
       "3           3    The Godfather: Part II           1974         crime drama   \n",
       "4           4              12 Angry Men           1957         crime drama   \n",
       "\n",
       "                                            Overview  IMDB_Rating  \\\n",
       "0  imprison men bond number year find solac event...          9.3   \n",
       "1  organ crime dynasti age patriarch transfer con...          9.2   \n",
       "2  menac known joker wreak havoc chao peopl gotha...          9.0   \n",
       "3  earli life career vito corleon s new york citi...          9.0   \n",
       "4  juri holdout attempt prevent miscarriag justic...          9.0   \n",
       "\n",
       "              Director                                              Stars  \n",
       "0       frank darabont  tim robbin morgan freeman bob gunton william s...  \n",
       "1  franci ford coppola      marlon brando al pacino jame caan dian keaton  \n",
       "2      christoph nolan  christian bale heath ledger aaron eckhart mich...  \n",
       "3  franci ford coppola     al pacino robert niro robert duval dian keaton  \n",
       "4         sidney lumet  henri fonda lee j cobb martin balsam john fiedler  "
      ]
     },
     "execution_count": 28,
     "metadata": {},
     "output_type": "execute_result"
    }
   ],
   "source": [
    "# print original table\n",
    "df.head()"
   ]
  },
  {
   "cell_type": "code",
   "execution_count": 29,
   "id": "b54e646d-a17e-4c3e-a18f-f471479aeb1d",
   "metadata": {},
   "outputs": [],
   "source": [
    "df = df.drop(columns = [\"Unnamed: 0\"])"
   ]
  },
  {
   "cell_type": "code",
   "execution_count": 30,
   "id": "0d334446-404c-449e-932b-99780d6d46d7",
   "metadata": {},
   "outputs": [
    {
     "data": {
      "text/html": [
       "<div>\n",
       "<style scoped>\n",
       "    .dataframe tbody tr th:only-of-type {\n",
       "        vertical-align: middle;\n",
       "    }\n",
       "\n",
       "    .dataframe tbody tr th {\n",
       "        vertical-align: top;\n",
       "    }\n",
       "\n",
       "    .dataframe thead th {\n",
       "        text-align: right;\n",
       "    }\n",
       "</style>\n",
       "<table border=\"1\" class=\"dataframe\">\n",
       "  <thead>\n",
       "    <tr style=\"text-align: right;\">\n",
       "      <th></th>\n",
       "      <th>Series_Title</th>\n",
       "      <th>Released_Year</th>\n",
       "      <th>Genre</th>\n",
       "      <th>Overview</th>\n",
       "      <th>IMDB_Rating</th>\n",
       "      <th>Director</th>\n",
       "      <th>Stars</th>\n",
       "    </tr>\n",
       "  </thead>\n",
       "  <tbody>\n",
       "    <tr>\n",
       "      <th>0</th>\n",
       "      <td>The Shawshank Redemption</td>\n",
       "      <td>1994</td>\n",
       "      <td>drama</td>\n",
       "      <td>imprison men bond number year find solac event...</td>\n",
       "      <td>9.3</td>\n",
       "      <td>frank darabont</td>\n",
       "      <td>tim robbin morgan freeman bob gunton william s...</td>\n",
       "    </tr>\n",
       "    <tr>\n",
       "      <th>1</th>\n",
       "      <td>The Godfather</td>\n",
       "      <td>1972</td>\n",
       "      <td>crime drama</td>\n",
       "      <td>organ crime dynasti age patriarch transfer con...</td>\n",
       "      <td>9.2</td>\n",
       "      <td>franci ford coppola</td>\n",
       "      <td>marlon brando al pacino jame caan dian keaton</td>\n",
       "    </tr>\n",
       "    <tr>\n",
       "      <th>2</th>\n",
       "      <td>The Dark Knight</td>\n",
       "      <td>2008</td>\n",
       "      <td>action crime drama</td>\n",
       "      <td>menac known joker wreak havoc chao peopl gotha...</td>\n",
       "      <td>9.0</td>\n",
       "      <td>christoph nolan</td>\n",
       "      <td>christian bale heath ledger aaron eckhart mich...</td>\n",
       "    </tr>\n",
       "    <tr>\n",
       "      <th>3</th>\n",
       "      <td>The Godfather: Part II</td>\n",
       "      <td>1974</td>\n",
       "      <td>crime drama</td>\n",
       "      <td>earli life career vito corleon s new york citi...</td>\n",
       "      <td>9.0</td>\n",
       "      <td>franci ford coppola</td>\n",
       "      <td>al pacino robert niro robert duval dian keaton</td>\n",
       "    </tr>\n",
       "    <tr>\n",
       "      <th>4</th>\n",
       "      <td>12 Angry Men</td>\n",
       "      <td>1957</td>\n",
       "      <td>crime drama</td>\n",
       "      <td>juri holdout attempt prevent miscarriag justic...</td>\n",
       "      <td>9.0</td>\n",
       "      <td>sidney lumet</td>\n",
       "      <td>henri fonda lee j cobb martin balsam john fiedler</td>\n",
       "    </tr>\n",
       "  </tbody>\n",
       "</table>\n",
       "</div>"
      ],
      "text/plain": [
       "               Series_Title  Released_Year               Genre  \\\n",
       "0  The Shawshank Redemption           1994               drama   \n",
       "1             The Godfather           1972         crime drama   \n",
       "2           The Dark Knight           2008  action crime drama   \n",
       "3    The Godfather: Part II           1974         crime drama   \n",
       "4              12 Angry Men           1957         crime drama   \n",
       "\n",
       "                                            Overview  IMDB_Rating  \\\n",
       "0  imprison men bond number year find solac event...          9.3   \n",
       "1  organ crime dynasti age patriarch transfer con...          9.2   \n",
       "2  menac known joker wreak havoc chao peopl gotha...          9.0   \n",
       "3  earli life career vito corleon s new york citi...          9.0   \n",
       "4  juri holdout attempt prevent miscarriag justic...          9.0   \n",
       "\n",
       "              Director                                              Stars  \n",
       "0       frank darabont  tim robbin morgan freeman bob gunton william s...  \n",
       "1  franci ford coppola      marlon brando al pacino jame caan dian keaton  \n",
       "2      christoph nolan  christian bale heath ledger aaron eckhart mich...  \n",
       "3  franci ford coppola     al pacino robert niro robert duval dian keaton  \n",
       "4         sidney lumet  henri fonda lee j cobb martin balsam john fiedler  "
      ]
     },
     "execution_count": 30,
     "metadata": {},
     "output_type": "execute_result"
    }
   ],
   "source": [
    "df.head()"
   ]
  },
  {
   "cell_type": "code",
   "execution_count": 31,
   "id": "c05b6394-e29d-4df7-9d73-f65674df251d",
   "metadata": {},
   "outputs": [
    {
     "name": "stdout",
     "output_type": "stream",
     "text": [
      "<class 'pandas.core.frame.DataFrame'>\n",
      "RangeIndex: 1000 entries, 0 to 999\n",
      "Data columns (total 7 columns):\n",
      " #   Column         Non-Null Count  Dtype  \n",
      "---  ------         --------------  -----  \n",
      " 0   Series_Title   1000 non-null   object \n",
      " 1   Released_Year  1000 non-null   int64  \n",
      " 2   Genre          1000 non-null   object \n",
      " 3   Overview       1000 non-null   object \n",
      " 4   IMDB_Rating    1000 non-null   float64\n",
      " 5   Director       1000 non-null   object \n",
      " 6   Stars          1000 non-null   object \n",
      "dtypes: float64(1), int64(1), object(5)\n",
      "memory usage: 54.8+ KB\n"
     ]
    }
   ],
   "source": [
    "df.info()"
   ]
  },
  {
   "cell_type": "code",
   "execution_count": 32,
   "id": "5d324d32-89fa-4ca5-8ffb-bf9616c5762c",
   "metadata": {},
   "outputs": [
    {
     "data": {
      "text/plain": [
       "(1000, 7)"
      ]
     },
     "execution_count": 32,
     "metadata": {},
     "output_type": "execute_result"
    }
   ],
   "source": [
    "df.shape"
   ]
  },
  {
   "cell_type": "code",
   "execution_count": 33,
   "id": "b9b7c71f-41a8-4619-b144-a377a1e78b65",
   "metadata": {},
   "outputs": [
    {
     "name": "stdout",
     "output_type": "stream",
     "text": [
      "<class 'pandas.core.frame.DataFrame'>\n",
      "RangeIndex: 1000 entries, 0 to 999\n",
      "Data columns (total 7 columns):\n",
      " #   Column         Non-Null Count  Dtype  \n",
      "---  ------         --------------  -----  \n",
      " 0   Series_Title   1000 non-null   object \n",
      " 1   Released_Year  1000 non-null   int64  \n",
      " 2   Genre          1000 non-null   object \n",
      " 3   Overview       1000 non-null   object \n",
      " 4   IMDB_Rating    1000 non-null   float64\n",
      " 5   Director       1000 non-null   object \n",
      " 6   Stars          1000 non-null   object \n",
      "dtypes: float64(1), int64(1), object(5)\n",
      "memory usage: 54.8+ KB\n"
     ]
    }
   ],
   "source": [
    "df.info()"
   ]
  },
  {
   "cell_type": "code",
   "execution_count": 34,
   "id": "b084337d-8a36-45ae-a822-99951b95beaa",
   "metadata": {},
   "outputs": [
    {
     "data": {
      "text/html": [
       "<div>\n",
       "<style scoped>\n",
       "    .dataframe tbody tr th:only-of-type {\n",
       "        vertical-align: middle;\n",
       "    }\n",
       "\n",
       "    .dataframe tbody tr th {\n",
       "        vertical-align: top;\n",
       "    }\n",
       "\n",
       "    .dataframe thead th {\n",
       "        text-align: right;\n",
       "    }\n",
       "</style>\n",
       "<table border=\"1\" class=\"dataframe\">\n",
       "  <thead>\n",
       "    <tr style=\"text-align: right;\">\n",
       "      <th></th>\n",
       "      <th>Series_Title</th>\n",
       "      <th>Released_Year</th>\n",
       "      <th>Genre</th>\n",
       "      <th>Overview</th>\n",
       "      <th>IMDB_Rating</th>\n",
       "      <th>Director</th>\n",
       "      <th>Stars</th>\n",
       "      <th>Movies_Infor</th>\n",
       "    </tr>\n",
       "  </thead>\n",
       "  <tbody>\n",
       "    <tr>\n",
       "      <th>0</th>\n",
       "      <td>The Shawshank Redemption</td>\n",
       "      <td>1994</td>\n",
       "      <td>drama</td>\n",
       "      <td>imprison men bond number year find solac event...</td>\n",
       "      <td>9.3</td>\n",
       "      <td>frank darabont</td>\n",
       "      <td>tim robbin morgan freeman bob gunton william s...</td>\n",
       "      <td>1994 drama imprison men bond number year find ...</td>\n",
       "    </tr>\n",
       "    <tr>\n",
       "      <th>1</th>\n",
       "      <td>The Godfather</td>\n",
       "      <td>1972</td>\n",
       "      <td>crime drama</td>\n",
       "      <td>organ crime dynasti age patriarch transfer con...</td>\n",
       "      <td>9.2</td>\n",
       "      <td>franci ford coppola</td>\n",
       "      <td>marlon brando al pacino jame caan dian keaton</td>\n",
       "      <td>1972 crime drama organ crime dynasti age patri...</td>\n",
       "    </tr>\n",
       "    <tr>\n",
       "      <th>2</th>\n",
       "      <td>The Dark Knight</td>\n",
       "      <td>2008</td>\n",
       "      <td>action crime drama</td>\n",
       "      <td>menac known joker wreak havoc chao peopl gotha...</td>\n",
       "      <td>9.0</td>\n",
       "      <td>christoph nolan</td>\n",
       "      <td>christian bale heath ledger aaron eckhart mich...</td>\n",
       "      <td>2008 action crime drama menac known joker wrea...</td>\n",
       "    </tr>\n",
       "    <tr>\n",
       "      <th>3</th>\n",
       "      <td>The Godfather: Part II</td>\n",
       "      <td>1974</td>\n",
       "      <td>crime drama</td>\n",
       "      <td>earli life career vito corleon s new york citi...</td>\n",
       "      <td>9.0</td>\n",
       "      <td>franci ford coppola</td>\n",
       "      <td>al pacino robert niro robert duval dian keaton</td>\n",
       "      <td>1974 crime drama earli life career vito corleo...</td>\n",
       "    </tr>\n",
       "    <tr>\n",
       "      <th>4</th>\n",
       "      <td>12 Angry Men</td>\n",
       "      <td>1957</td>\n",
       "      <td>crime drama</td>\n",
       "      <td>juri holdout attempt prevent miscarriag justic...</td>\n",
       "      <td>9.0</td>\n",
       "      <td>sidney lumet</td>\n",
       "      <td>henri fonda lee j cobb martin balsam john fiedler</td>\n",
       "      <td>1957 crime drama juri holdout attempt prevent ...</td>\n",
       "    </tr>\n",
       "  </tbody>\n",
       "</table>\n",
       "</div>"
      ],
      "text/plain": [
       "               Series_Title  Released_Year               Genre  \\\n",
       "0  The Shawshank Redemption           1994               drama   \n",
       "1             The Godfather           1972         crime drama   \n",
       "2           The Dark Knight           2008  action crime drama   \n",
       "3    The Godfather: Part II           1974         crime drama   \n",
       "4              12 Angry Men           1957         crime drama   \n",
       "\n",
       "                                            Overview  IMDB_Rating  \\\n",
       "0  imprison men bond number year find solac event...          9.3   \n",
       "1  organ crime dynasti age patriarch transfer con...          9.2   \n",
       "2  menac known joker wreak havoc chao peopl gotha...          9.0   \n",
       "3  earli life career vito corleon s new york citi...          9.0   \n",
       "4  juri holdout attempt prevent miscarriag justic...          9.0   \n",
       "\n",
       "              Director                                              Stars  \\\n",
       "0       frank darabont  tim robbin morgan freeman bob gunton william s...   \n",
       "1  franci ford coppola      marlon brando al pacino jame caan dian keaton   \n",
       "2      christoph nolan  christian bale heath ledger aaron eckhart mich...   \n",
       "3  franci ford coppola     al pacino robert niro robert duval dian keaton   \n",
       "4         sidney lumet  henri fonda lee j cobb martin balsam john fiedler   \n",
       "\n",
       "                                        Movies_Infor  \n",
       "0  1994 drama imprison men bond number year find ...  \n",
       "1  1972 crime drama organ crime dynasti age patri...  \n",
       "2  2008 action crime drama menac known joker wrea...  \n",
       "3  1974 crime drama earli life career vito corleo...  \n",
       "4  1957 crime drama juri holdout attempt prevent ...  "
      ]
     },
     "execution_count": 34,
     "metadata": {},
     "output_type": "execute_result"
    }
   ],
   "source": [
    "df[\"Movies_Infor\"] = df[\"Released_Year\"].astype(str) + \" \" + df[\"Genre\"] + \" \" + df[\"Overview\"] + \" \" + df[\"IMDB_Rating\"].astype(str) + \" \" + df[\"Director\"] + \" \" + df[\"Stars\"]\n",
    "df.head()"
   ]
  },
  {
   "cell_type": "code",
   "execution_count": 35,
   "id": "86813b25-fd03-489f-92c1-10f99d9609f7",
   "metadata": {},
   "outputs": [
    {
     "data": {
      "text/plain": [
       "0    1994 drama imprison men bond number year find ...\n",
       "1    1972 crime drama organ crime dynasti age patri...\n",
       "2    2008 action crime drama menac known joker wrea...\n",
       "3    1974 crime drama earli life career vito corleo...\n",
       "4    1957 crime drama juri holdout attempt prevent ...\n",
       "Name: Movies_Infor, dtype: object"
      ]
     },
     "execution_count": 35,
     "metadata": {},
     "output_type": "execute_result"
    }
   ],
   "source": [
    "x = df[\"Movies_Infor\"]\n",
    "x.head()"
   ]
  },
  {
   "cell_type": "code",
   "execution_count": 36,
   "id": "d4834867-cbbf-46c7-8610-1be5206a79a4",
   "metadata": {},
   "outputs": [
    {
     "data": {
      "text/plain": [
       "0    The Shawshank Redemption\n",
       "1               The Godfather\n",
       "2             The Dark Knight\n",
       "3      The Godfather: Part II\n",
       "4                12 Angry Men\n",
       "Name: Series_Title, dtype: object"
      ]
     },
     "execution_count": 36,
     "metadata": {},
     "output_type": "execute_result"
    }
   ],
   "source": [
    "y = df[\"Series_Title\"]\n",
    "y.head()"
   ]
  },
  {
   "cell_type": "code",
   "execution_count": 37,
   "id": "923dd36d-81a1-45d4-879e-5baea10432ee",
   "metadata": {},
   "outputs": [],
   "source": [
    "# convert movie information into numeric\n",
    "from sklearn.feature_extraction.text import TfidfVectorizer\n",
    "\n",
    "# Fit TF-IDF on the entire dataset (x)\n",
    "tfidf_vectorizer = TfidfVectorizer(max_features = 1000)\n",
    "x_tfidf = tfidf_vectorizer.fit_transform(x)\n",
    "y_tfidf = tfidf_vectorizer.fit_transform(y)"
   ]
  },
  {
   "cell_type": "code",
   "execution_count": 38,
   "id": "26253d11-098f-4593-bca9-80931174d15d",
   "metadata": {},
   "outputs": [
    {
     "name": "stdout",
     "output_type": "stream",
     "text": [
      "  (0, 980)\t0.21746922611979377\n",
      "  (0, 137)\t0.27571130049517434\n",
      "  (0, 379)\t0.2875410819804923\n",
      "  (0, 639)\t0.29720671723740555\n",
      "  (0, 915)\t0.26317933363522467\n",
      "  (0, 374)\t0.2507944243473429\n",
      "  (0, 62)\t0.2875410819804923\n",
      "  (0, 753)\t0.30279232287141045\n",
      "  (0, 365)\t0.20879453972842443\n",
      "  (0, 996)\t0.21295465127099658\n",
      "  (0, 140)\t0.27571130049517434\n",
      "  (0, 622)\t0.2507944243473429\n",
      "  (0, 460)\t0.29720671723740555\n",
      "  (0, 312)\t0.07011571370263914\n",
      "  (0, 32)\t0.2793689038134347\n",
      "  (1, 528)\t0.2945259113118049\n",
      "  (1, 296)\t0.2898756194522392\n",
      "  (1, 478)\t0.19337849760252862\n",
      "  (1, 681)\t0.2816370916142915\n",
      "  (1, 73)\t0.27126049300526\n",
      "  (1, 240)\t0.31868209426518646\n",
      "  (1, 368)\t0.2528306168013443\n",
      "  (1, 373)\t0.29961972971362866\n",
      "  (1, 845)\t0.22827107614759132\n",
      "  (1, 331)\t0.2945259113118049\n",
      "  :\t:\n",
      "  (998, 980)\t0.24347387901315098\n",
      "  (998, 312)\t0.07850004848756521\n",
      "  (999, 597)\t0.22410567977278983\n",
      "  (999, 181)\t0.22923924221749128\n",
      "  (999, 587)\t0.21957755678549543\n",
      "  (999, 852)\t0.20851773142064617\n",
      "  (999, 68)\t0.3606011440087895\n",
      "  (999, 435)\t0.1999390643949451\n",
      "  (999, 81)\t0.1974579060557969\n",
      "  (999, 795)\t0.18887923903009585\n",
      "  (999, 932)\t0.3225643348553682\n",
      "  (999, 871)\t0.19292978306850248\n",
      "  (999, 651)\t0.118735151261032\n",
      "  (999, 61)\t0.1999390643949451\n",
      "  (999, 537)\t0.1974579060557969\n",
      "  (999, 913)\t0.11462264973783384\n",
      "  (999, 857)\t0.21552701274708877\n",
      "  (999, 428)\t0.1499886355012244\n",
      "  (999, 602)\t0.24461283044786608\n",
      "  (999, 808)\t0.1852150762439184\n",
      "  (999, 817)\t0.1835061455239634\n",
      "  (999, 864)\t0.20544052066137172\n",
      "  (999, 775)\t0.21552701274708877\n",
      "  (999, 780)\t0.13606727798480875\n",
      "  (999, 249)\t0.0972209399887405\n"
     ]
    }
   ],
   "source": [
    "print(x_tfidf)"
   ]
  },
  {
   "cell_type": "code",
   "execution_count": 39,
   "id": "8741117c-664d-4d06-96ee-70118ff86f28",
   "metadata": {},
   "outputs": [
    {
     "name": "stdout",
     "output_type": "stream",
     "text": [
      "  (0, 536)\t0.6883956892151754\n",
      "  (0, 643)\t0.6883956892151754\n",
      "  (0, 791)\t0.22852297508112257\n",
      "  (1, 192)\t0.9387014236187246\n",
      "  (1, 791)\t0.34473125372698654\n",
      "  (2, 234)\t0.7273239070142198\n",
      "  (2, 138)\t0.6368324097998859\n",
      "  (2, 791)\t0.25582106268648125\n",
      "  (3, 215)\t0.5625755822897067\n",
      "  (3, 435)\t0.546292918924003\n",
      "  (3, 192)\t0.5825039516617555\n",
      "  (3, 791)\t0.21392032919601017\n",
      "  (4, 283)\t0.5344543299107184\n",
      "  (4, 9)\t0.6103982859061458\n",
      "  (4, 1)\t0.5846131214765232\n",
      "  (5, 233)\t0.3348288274163998\n",
      "  (5, 546)\t0.3911664945297966\n",
      "  (5, 555)\t0.3746423780411066\n",
      "  (5, 392)\t0.40091304831217456\n",
      "  (5, 249)\t0.3618252775377932\n",
      "  (5, 791)\t0.5503387272323047\n",
      "  (6, 506)\t1.0\n",
      "  (7, 615)\t1.0\n",
      "  (9, 107)\t1.0\n",
      "  (10, 554)\t0.4352692723255221\n",
      "  :\t:\n",
      "  (986, 920)\t0.7533181380242879\n",
      "  (986, 158)\t0.6576562802282205\n",
      "  (987, 291)\t1.0\n",
      "  (988, 106)\t0.5656244882230873\n",
      "  (988, 232)\t0.5338404712671817\n",
      "  (988, 796)\t0.5338404712671817\n",
      "  (988, 392)\t0.2735709904108756\n",
      "  (988, 791)\t0.18776728682720498\n",
      "  (989, 248)\t0.9387014236187246\n",
      "  (989, 791)\t0.34473125372698654\n",
      "  (990, 788)\t0.8340265551932081\n",
      "  (990, 237)\t0.5517243018324918\n",
      "  (992, 30)\t0.9433486082241092\n",
      "  (992, 791)\t0.3318032600226167\n",
      "  (994, 361)\t0.5638230813578109\n",
      "  (994, 201)\t0.6308656922531413\n",
      "  (994, 141)\t0.5330215861164989\n",
      "  (995, 801)\t0.6190504428683128\n",
      "  (995, 33)\t0.5842642725691815\n",
      "  (995, 13)\t0.5247969216599417\n",
      "  (996, 188)\t1.0\n",
      "  (997, 184)\t0.7731161364522519\n",
      "  (997, 807)\t0.6342644870691903\n",
      "  (999, 728)\t0.9490722958309379\n",
      "  (999, 791)\t0.3150583712364945\n"
     ]
    }
   ],
   "source": [
    "print(y_tfidf)"
   ]
  },
  {
   "cell_type": "code",
   "execution_count": 40,
   "id": "9f2bf64e-927f-4292-8f46-8770d5351d25",
   "metadata": {},
   "outputs": [],
   "source": [
    "# Apply LSA to reduce dimension\n",
    "from sklearn.decomposition import TruncatedSVD\n",
    "\n",
    "lsa = TruncatedSVD(n_components = 100)\n",
    "x_lsa = lsa.fit_transform(x_tfidf)\n",
    "y_lsa = lsa.fit_transform(y_tfidf)"
   ]
  },
  {
   "cell_type": "code",
   "execution_count": 41,
   "id": "5a0cf1b6-eb1f-4c62-971d-581f42be4894",
   "metadata": {},
   "outputs": [
    {
     "name": "stdout",
     "output_type": "stream",
     "text": [
      "[[ 0.13080426 -0.01102144 -0.01845517 ...  0.09462762  0.01906507\n",
      "  -0.04818583]\n",
      " [ 0.16296576  0.07462521 -0.18171085 ...  0.05651556 -0.01002155\n",
      "   0.01601498]\n",
      " [ 0.17126713  0.11632843 -0.03059537 ...  0.0211427   0.01935148\n",
      "  -0.02497905]\n",
      " ...\n",
      " [ 0.17328693 -0.06408495  0.05753295 ...  0.11268549  0.02301759\n",
      "  -0.00234125]\n",
      " [ 0.19800726  0.22314228  0.23859287 ...  0.00802215 -0.01876228\n",
      "   0.00046169]\n",
      " [ 0.20540205  0.12391251 -0.16033411 ...  0.01502794 -0.04435272\n",
      "   0.060706  ]]\n"
     ]
    }
   ],
   "source": [
    "print(x_lsa)"
   ]
  },
  {
   "cell_type": "code",
   "execution_count": 42,
   "id": "9ff864a4-c641-4334-9ee5-ba39b4fd621d",
   "metadata": {},
   "outputs": [
    {
     "name": "stdout",
     "output_type": "stream",
     "text": [
      "[[ 2.28227128e-01 -4.15721038e-02 -2.18790669e-03 ...  3.43662970e-03\n",
      "  -2.19589694e-03 -2.34506997e-03]\n",
      " [ 3.50397409e-01 -6.79312803e-02 -3.20605901e-03 ...  1.88537064e-02\n",
      "   2.85293061e-03  5.44591526e-02]\n",
      " [ 2.62330741e-01 -5.24435933e-02  2.93890784e-03 ... -1.04536533e-03\n",
      "   2.72877462e-03  4.66939783e-03]\n",
      " ...\n",
      " [ 8.35593316e-03  3.85354363e-03  8.08616393e-02 ... -3.67957482e-03\n",
      "   1.82610504e-04  7.95016493e-03]\n",
      " [ 0.00000000e+00  0.00000000e+00  0.00000000e+00 ...  0.00000000e+00\n",
      "   0.00000000e+00  0.00000000e+00]\n",
      " [ 3.14327584e-01 -5.70593240e-02 -2.99642150e-03 ...  2.29486579e-04\n",
      "  -8.59743078e-03  4.64357627e-05]]\n"
     ]
    }
   ],
   "source": [
    "print(y_lsa)"
   ]
  },
  {
   "cell_type": "code",
   "execution_count": 43,
   "id": "fd980094-61df-4700-bf16-0e747b4dc648",
   "metadata": {},
   "outputs": [],
   "source": [
    "# Find the index for the movie you want to find similar movies for\n",
    "user_movie = input(\"Enter a movie name: \")"
   ]
  },
  {
   "cell_type": "code",
   "execution_count": 44,
   "id": "2ac443d1-39fa-4987-96b3-8d27663074bd",
   "metadata": {},
   "outputs": [],
   "source": [
    "start = timer()\n",
    "import numpy as np\n",
    "\n",
    "# Use euclidean distance to find the nearest \n",
    "def euclidean_distance(vec1, vec2):\n",
    "    return np.sqrt(np.sum((vec1 - vec2) ** 2))"
   ]
  },
  {
   "cell_type": "code",
   "execution_count": 45,
   "id": "b8fb4bbe-b74c-4481-8a6f-a089932b10b9",
   "metadata": {},
   "outputs": [],
   "source": [
    "def find_similar_movies(target_vec, lsa):\n",
    "    distances = []\n",
    "    for idx, movie_vec in enumerate(lsa):\n",
    "        diff = euclidean_distance(target_vec, movie_vec)\n",
    "        distances.append((idx, diff))\n",
    "    \n",
    "    # Sort distances in ascending order\n",
    "    distances.sort(key=lambda x: x[1])\n",
    "    \n",
    "    # Return similar movies\n",
    "    return distances[:10]"
   ]
  },
  {
   "cell_type": "code",
   "execution_count": 46,
   "id": "8249fee4-01d9-4a5d-824f-d6dddcbaf7e3",
   "metadata": {},
   "outputs": [
    {
     "name": "stdout",
     "output_type": "stream",
     "text": [
      "2: The Dark Knight\n",
      "155: Batman Begins\n",
      "36: The Prestige\n",
      "63: The Dark Knight Rises\n",
      "774: 3:10 to Yuma\n",
      "217: Ford v Ferrari\n",
      "730: Kingsman: The Secret Service\n",
      "8: Inception\n",
      "819: The Muppet Christmas Carol\n",
      "530: This Is Spinal Tap\n"
     ]
    }
   ],
   "source": [
    "movie_index = df[df[\"Series_Title\"] == user_movie].index[0]\n",
    "\n",
    "# Perform similarity search on the full dataset\n",
    "target_vec = x_lsa[movie_index]\n",
    "similar_movies = find_similar_movies(target_vec, x_lsa)\n",
    "\n",
    "# Display the similar movies\n",
    "for i, score in similar_movies:\n",
    "    print(\"{}: {}\".format(i, df.loc[i, \"Series_Title\"]))"
   ]
  },
  {
   "cell_type": "code",
   "execution_count": 47,
   "id": "a30241fd",
   "metadata": {},
   "outputs": [],
   "source": [
    "end = timer()"
   ]
  },
  {
   "cell_type": "code",
   "execution_count": 48,
   "id": "dc73ea1c-f3ab-4446-997b-5a8d7a2e1874",
   "metadata": {},
   "outputs": [
    {
     "data": {
      "text/html": [
       "<div>\n",
       "<style scoped>\n",
       "    .dataframe tbody tr th:only-of-type {\n",
       "        vertical-align: middle;\n",
       "    }\n",
       "\n",
       "    .dataframe tbody tr th {\n",
       "        vertical-align: top;\n",
       "    }\n",
       "\n",
       "    .dataframe thead th {\n",
       "        text-align: right;\n",
       "    }\n",
       "</style>\n",
       "<table border=\"1\" class=\"dataframe\">\n",
       "  <thead>\n",
       "    <tr style=\"text-align: right;\">\n",
       "      <th></th>\n",
       "      <th>Series_Title</th>\n",
       "      <th>Released_Year</th>\n",
       "      <th>Genre</th>\n",
       "      <th>Overview</th>\n",
       "      <th>IMDB_Rating</th>\n",
       "      <th>Director</th>\n",
       "      <th>Stars</th>\n",
       "      <th>Movies_Infor</th>\n",
       "    </tr>\n",
       "  </thead>\n",
       "  <tbody>\n",
       "    <tr>\n",
       "      <th>2</th>\n",
       "      <td>The Dark Knight</td>\n",
       "      <td>2008</td>\n",
       "      <td>action crime drama</td>\n",
       "      <td>menac known joker wreak havoc chao peopl gotha...</td>\n",
       "      <td>9.0</td>\n",
       "      <td>christoph nolan</td>\n",
       "      <td>christian bale heath ledger aaron eckhart mich...</td>\n",
       "      <td>2008 action crime drama menac known joker wrea...</td>\n",
       "    </tr>\n",
       "    <tr>\n",
       "      <th>63</th>\n",
       "      <td>The Dark Knight Rises</td>\n",
       "      <td>2012</td>\n",
       "      <td>action adventur</td>\n",
       "      <td>year joker reign anarchi batman help enigmat c...</td>\n",
       "      <td>8.4</td>\n",
       "      <td>christoph nolan</td>\n",
       "      <td>christian bale tom hardi ann hathaway gari oldman</td>\n",
       "      <td>2012 action adventur year joker reign anarchi ...</td>\n",
       "    </tr>\n",
       "  </tbody>\n",
       "</table>\n",
       "</div>"
      ],
      "text/plain": [
       "             Series_Title  Released_Year               Genre  \\\n",
       "2         The Dark Knight           2008  action crime drama   \n",
       "63  The Dark Knight Rises           2012     action adventur   \n",
       "\n",
       "                                             Overview  IMDB_Rating  \\\n",
       "2   menac known joker wreak havoc chao peopl gotha...          9.0   \n",
       "63  year joker reign anarchi batman help enigmat c...          8.4   \n",
       "\n",
       "           Director                                              Stars  \\\n",
       "2   christoph nolan  christian bale heath ledger aaron eckhart mich...   \n",
       "63  christoph nolan  christian bale tom hardi ann hathaway gari oldman   \n",
       "\n",
       "                                         Movies_Infor  \n",
       "2   2008 action crime drama menac known joker wrea...  \n",
       "63  2012 action adventur year joker reign anarchi ...  "
      ]
     },
     "execution_count": 48,
     "metadata": {},
     "output_type": "execute_result"
    }
   ],
   "source": [
    "same_series = df[df[\"Series_Title\"].str.contains(user_movie, case=False, na=False)]\n",
    "\n",
    "same_series.head()"
   ]
  },
  {
   "cell_type": "code",
   "execution_count": 49,
   "id": "901760bc-8100-44ff-a36e-3504ad9e8363",
   "metadata": {},
   "outputs": [
    {
     "name": "stdout",
     "output_type": "stream",
     "text": [
      "Precision@10: 1.00\n",
      "Recall@10: 1.00\n",
      "F1@10: 1.00\n",
      "Time used to execute: 0.06 seconds\n",
      "Predicted movies:  ['The Dark Knight', 'Batman Begins', 'The Prestige', 'The Dark Knight Rises', '3:10 to Yuma', 'Ford v Ferrari', 'Kingsman: The Secret Service', 'Inception', 'The Muppet Christmas Carol', 'This Is Spinal Tap']\n"
     ]
    }
   ],
   "source": [
    "# Precision: measures how many of the top recommended items are relevant\n",
    "def precision_at_k(y_true, y_pred, k):\n",
    "    relevant = len(set(y_true) & set(y_pred[:k]))  # Intersection of ground truth and predicted\n",
    "    if relevant == same_series.shape[0]: \n",
    "        return relevant / same_series.shape[0]\n",
    "    return relevant / k\n",
    "\n",
    "# Recall: measures how many relevant items are captured in the top recommendation\n",
    "def recall_at_k(y_true, y_pred, k):\n",
    "    relevant = len(set(y_true) & set(y_pred[:k]))\n",
    "    if relevant == same_series.shape[0]: \n",
    "        return relevant / same_series.shape[0]\n",
    "    return relevant / k\n",
    "\n",
    "# harmonic mean of precision and recall\n",
    "def f1_at_k(y_true, y_pred, k):\n",
    "    prec = precision_at_k(y_true, y_pred, k)\n",
    "    rec = recall_at_k(y_true, y_pred, k)\n",
    "    if prec + rec == 0:\n",
    "        return 0\n",
    "    return 2 * (prec * rec) / (prec + rec)\n",
    "\n",
    "# actual movie\n",
    "y_true = same_series[\"Series_Title\"]\n",
    "\n",
    "# Predict movie    \n",
    "y_pred = [df.loc[i, \"Series_Title\"] for i, score in similar_movies]\n",
    "\n",
    "k = 10\n",
    "precision = precision_at_k(y_true, y_pred, k)\n",
    "recall = recall_at_k(y_true, y_pred, k)\n",
    "f1 = f1_at_k(y_true, y_pred, k)\n",
    "\n",
    "print(f\"Precision@{k}: {precision:.2f}\") # AKA: Accurancy\n",
    "print(f\"Recall@{k}: {recall:.2f}\")\n",
    "print(f\"F1@{k}: {f1:.2f}\")\n",
    "print(f\"Executed Time: {end-start:.2f} seconds\")\n",
    "print(\"Predicted movies: \", y_pred)"
   ]
  },
  {
   "cell_type": "code",
   "execution_count": null,
   "id": "b410a519-7485-43b9-8b07-37f99deb7d1f",
   "metadata": {},
   "outputs": [],
   "source": []
  },
  {
   "cell_type": "code",
   "execution_count": null,
   "id": "88814259-0776-444d-b96b-3bf08b683f94",
   "metadata": {},
   "outputs": [],
   "source": []
  },
  {
   "cell_type": "code",
   "execution_count": null,
   "id": "495b79ff-f4b2-4485-89b8-a182f3e4a9bf",
   "metadata": {},
   "outputs": [],
   "source": []
  },
  {
   "cell_type": "code",
   "execution_count": null,
   "id": "e8e21e18-4a5c-49d0-811f-196a17ad2106",
   "metadata": {},
   "outputs": [],
   "source": []
  },
  {
   "cell_type": "code",
   "execution_count": null,
   "id": "e8f06722-139c-4956-aeda-85d9a370735a",
   "metadata": {},
   "outputs": [],
   "source": []
  }
 ],
 "metadata": {
  "kernelspec": {
   "display_name": "Python 3 (ipykernel)",
   "language": "python",
   "name": "python3"
  },
  "language_info": {
   "codemirror_mode": {
    "name": "ipython",
    "version": 3
   },
   "file_extension": ".py",
   "mimetype": "text/x-python",
   "name": "python",
   "nbconvert_exporter": "python",
   "pygments_lexer": "ipython3",
   "version": "3.12.4"
  }
 },
 "nbformat": 4,
 "nbformat_minor": 5
}
